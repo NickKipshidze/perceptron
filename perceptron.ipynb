{
 "cells": [
  {
   "cell_type": "markdown",
   "metadata": {},
   "source": [
    "# Simple perceptron program"
   ]
  },
  {
   "cell_type": "code",
   "execution_count": 14,
   "metadata": {},
   "outputs": [],
   "source": [
    "import numpy as np\n",
    "import os"
   ]
  },
  {
   "cell_type": "markdown",
   "metadata": {},
   "source": [
    "#### 1. Load in the dataset"
   ]
  },
  {
   "cell_type": "code",
   "execution_count": 15,
   "metadata": {},
   "outputs": [],
   "source": [
    "DATASET_DIR = \"./dataset\"\n",
    "TESTSET_DIR = \"./testset\""
   ]
  },
  {
   "cell_type": "code",
   "execution_count": 16,
   "metadata": {},
   "outputs": [],
   "source": [
    "dataset_files = os.listdir(DATASET_DIR)\n",
    "testset_files = os.listdir(TESTSET_DIR)"
   ]
  },
  {
   "cell_type": "code",
   "execution_count": 17,
   "metadata": {},
   "outputs": [
    {
     "name": "stdout",
     "output_type": "stream",
     "text": [
      "Dataset file count: 21\n",
      "Testset file count: 7\n"
     ]
    }
   ],
   "source": [
    "print(\n",
    "    f\"Dataset file count: {len(dataset_files)}\",\n",
    "    f\"Testset file count: {len(testset_files)}\",\n",
    "    sep=\"\\n\"\n",
    ")"
   ]
  },
  {
   "cell_type": "code",
   "execution_count": 18,
   "metadata": {},
   "outputs": [
    {
     "name": "stdout",
     "output_type": "stream",
     "text": [
      "................................\n",
      "................................\n",
      "................................\n",
      "................................\n",
      "................................\n",
      "................................\n",
      "................................\n",
      "..............##................\n",
      "............######..............\n",
      "...........########.............\n",
      "..........##########............\n",
      "..........##########............\n",
      ".........############...........\n",
      ".........############...........\n",
      "..........##########............\n",
      "..........##########............\n",
      "...........########.............\n",
      "............######..............\n",
      "..............##................\n",
      "................................\n",
      "................................\n",
      "................................\n",
      "................................\n",
      "................................\n",
      "................................\n",
      "................................\n",
      "................................\n",
      "................................\n",
      "................................\n",
      "................................\n",
      "................................\n",
      "................................\n"
     ]
    }
   ],
   "source": [
    "print(\n",
    "    open(f\"./dataset/{dataset_files[3]}\", \"r\").read()\n",
    ")"
   ]
  },
  {
   "cell_type": "markdown",
   "metadata": {},
   "source": [
    "#### 2. Convert the dataset into numbers"
   ]
  },
  {
   "cell_type": "code",
   "execution_count": 19,
   "metadata": {},
   "outputs": [],
   "source": [
    "# String to numbers\n",
    "def ston(string):\n",
    "    return np.array([(ord(c)**4)/10000000 for c in string])"
   ]
  },
  {
   "cell_type": "code",
   "execution_count": 20,
   "metadata": {},
   "outputs": [],
   "source": [
    "dataset = []\n",
    "testset = []\n",
    "\n",
    "for file in dataset_files:\n",
    "    pixels = open(f\"./dataset/{file}\", \"r\").read().replace(\"\\n\", \"\")\n",
    "    # If filename is rect-n.txt that means it is a rectangle\n",
    "    is_rect = True if file.split(\"-\")[0] == \"rect\" else False\n",
    "    dataset.append((\n",
    "        ston(pixels),\n",
    "        is_rect\n",
    "    ))\n",
    "\n",
    "for file in testset_files:\n",
    "    pixels = open(f\"./testset/{file}\", \"r\").read().replace(\"\\n\", \"\")\n",
    "    # If filename is rect-n.txt that means it is a rectangle\n",
    "    is_rect = True if file.split(\"-\")[0] == \"rect\" else False\n",
    "    testset.append((\n",
    "        ston(pixels),\n",
    "        is_rect\n",
    "    ))"
   ]
  },
  {
   "cell_type": "code",
   "execution_count": 21,
   "metadata": {},
   "outputs": [
    {
     "data": {
      "text/plain": [
       "([(array([0.4477456, 0.4477456, 0.4477456, ..., 0.4477456, 0.4477456,\n",
       "          0.4477456]),\n",
       "   False),\n",
       "  (array([0.4477456, 0.4477456, 0.4477456, ..., 0.4477456, 0.4477456,\n",
       "          0.4477456]),\n",
       "   False),\n",
       "  (array([0.4477456, 0.4477456, 0.4477456, ..., 0.4477456, 0.4477456,\n",
       "          0.4477456]),\n",
       "   True),\n",
       "  (array([0.4477456, 0.4477456, 0.4477456, ..., 0.4477456, 0.4477456,\n",
       "          0.4477456]),\n",
       "   False),\n",
       "  (array([0.4477456, 0.4477456, 0.4477456, ..., 0.4477456, 0.4477456,\n",
       "          0.4477456]),\n",
       "   False),\n",
       "  (array([0.4477456, 0.4477456, 0.4477456, ..., 0.4477456, 0.4477456,\n",
       "          0.4477456]),\n",
       "   False),\n",
       "  (array([0.4477456, 0.4477456, 0.4477456, ..., 0.4477456, 0.4477456,\n",
       "          0.4477456]),\n",
       "   False),\n",
       "  (array([0.4477456, 0.4477456, 0.4477456, ..., 0.4477456, 0.4477456,\n",
       "          0.4477456]),\n",
       "   False),\n",
       "  (array([0.4477456, 0.4477456, 0.4477456, ..., 0.4477456, 0.4477456,\n",
       "          0.4477456]),\n",
       "   False),\n",
       "  (array([0.4477456, 0.4477456, 0.4477456, ..., 0.4477456, 0.4477456,\n",
       "          0.4477456]),\n",
       "   False),\n",
       "  (array([0.4477456, 0.4477456, 0.4477456, ..., 0.4477456, 0.4477456,\n",
       "          0.4477456]),\n",
       "   True),\n",
       "  (array([0.4477456, 0.4477456, 0.4477456, ..., 0.4477456, 0.4477456,\n",
       "          0.4477456]),\n",
       "   True),\n",
       "  (array([0.4477456, 0.4477456, 0.4477456, ..., 0.4477456, 0.4477456,\n",
       "          0.4477456]),\n",
       "   False),\n",
       "  (array([0.4477456, 0.4477456, 0.4477456, ..., 0.4477456, 0.4477456,\n",
       "          0.4477456]),\n",
       "   True),\n",
       "  (array([0.4477456, 0.4477456, 0.4477456, ..., 0.4477456, 0.4477456,\n",
       "          0.4477456]),\n",
       "   False),\n",
       "  (array([0.4477456, 0.4477456, 0.4477456, ..., 0.4477456, 0.4477456,\n",
       "          0.4477456]),\n",
       "   True),\n",
       "  (array([0.4477456, 0.4477456, 0.4477456, ..., 0.4477456, 0.4477456,\n",
       "          0.4477456]),\n",
       "   False),\n",
       "  (array([0.1500625, 0.1500625, 0.1500625, ..., 0.4477456, 0.4477456,\n",
       "          0.4477456]),\n",
       "   True),\n",
       "  (array([0.4477456, 0.4477456, 0.4477456, ..., 0.4477456, 0.4477456,\n",
       "          0.4477456]),\n",
       "   True),\n",
       "  (array([0.4477456, 0.4477456, 0.4477456, ..., 0.4477456, 0.4477456,\n",
       "          0.4477456]),\n",
       "   False),\n",
       "  (array([0.4477456, 0.4477456, 0.4477456, ..., 0.4477456, 0.4477456,\n",
       "          0.4477456]),\n",
       "   True)],\n",
       " [(array([0.4477456, 0.4477456, 0.4477456, ..., 0.4477456, 0.4477456,\n",
       "          0.4477456]),\n",
       "   True),\n",
       "  (array([0.4477456, 0.4477456, 0.4477456, ..., 0.4477456, 0.4477456,\n",
       "          0.4477456]),\n",
       "   False),\n",
       "  (array([0.4477456, 0.4477456, 0.4477456, ..., 0.4477456, 0.4477456,\n",
       "          0.4477456]),\n",
       "   False),\n",
       "  (array([0.4477456, 0.4477456, 0.4477456, ..., 0.4477456, 0.4477456,\n",
       "          0.4477456]),\n",
       "   False),\n",
       "  (array([0.4477456, 0.4477456, 0.4477456, ..., 0.4477456, 0.4477456,\n",
       "          0.4477456]),\n",
       "   False),\n",
       "  (array([0.4477456, 0.4477456, 0.4477456, ..., 0.4477456, 0.4477456,\n",
       "          0.4477456]),\n",
       "   True),\n",
       "  (array([0.4477456, 0.4477456, 0.4477456, ..., 0.4477456, 0.4477456,\n",
       "          0.4477456]),\n",
       "   True)])"
      ]
     },
     "execution_count": 21,
     "metadata": {},
     "output_type": "execute_result"
    }
   ],
   "source": [
    "dataset, testset"
   ]
  },
  {
   "cell_type": "markdown",
   "metadata": {},
   "source": [
    "#### 3. Define the neural network"
   ]
  },
  {
   "cell_type": "code",
   "execution_count": 22,
   "metadata": {},
   "outputs": [],
   "source": [
    "class LayerDense():\n",
    "    def __init__(self, inputs, neurons):\n",
    "        self.weights = np.random.randn(inputs) * 0.001\n",
    "        self.biases = np.random.randn(neurons) * 0.001\n",
    "    \n",
    "    def forward(self, inputs):\n",
    "        self.output = np.dot(inputs, self.weights) + self.biases\n",
    "\n",
    "class ActivationSigmoid():\n",
    "    def forward(self, x):\n",
    "        self.output = 1 / (1 + np.exp(-x))\n",
    "    \n",
    "    def backward(self, x):\n",
    "        self.output = x * (1 - x)"
   ]
  },
  {
   "cell_type": "code",
   "execution_count": 23,
   "metadata": {},
   "outputs": [],
   "source": [
    "layer1 = LayerDense(32 * 32, 1)\n",
    "activation1 = ActivationSigmoid()"
   ]
  },
  {
   "cell_type": "markdown",
   "metadata": {},
   "source": [
    "#### 4. Train the neural network"
   ]
  },
  {
   "cell_type": "code",
   "execution_count": 24,
   "metadata": {},
   "outputs": [],
   "source": [
    "inputs, labels = zip(*dataset)\n",
    "learning_rate = 0.5\n",
    "\n",
    "for iteration in range(10_000):\n",
    "    for input, label in zip(inputs, labels):\n",
    "        layer1.forward(input)\n",
    "        activation1.forward(layer1.output)\n",
    "        prediction = activation1.output\n",
    "        \n",
    "        loss = label - prediction\n",
    "        activation1.backward(prediction)\n",
    "        adjustments = loss * activation1.output\n",
    "        \n",
    "        layer1.weights += learning_rate * adjustments * input\n",
    "        layer1.biases += learning_rate * adjustments\n",
    "    \n",
    "    # We dont want 10000 lines of output\n",
    "    # print(f\"Iteration: {iteration + 1}, Loss: {loss}\")"
   ]
  },
  {
   "cell_type": "markdown",
   "metadata": {},
   "source": [
    "#### 5. Test the neural network"
   ]
  },
  {
   "cell_type": "code",
   "execution_count": 25,
   "metadata": {},
   "outputs": [
    {
     "name": "stdout",
     "output_type": "stream",
     "text": [
      "[1 0 0 0 0 0 0]\n",
      "[1 0 0 0 0 1 1]\n",
      "Accuracy: 71.43%\n"
     ]
    }
   ],
   "source": [
    "inputs, labels = zip(*testset)\n",
    "predictions = []\n",
    "\n",
    "for input, label in zip(inputs, labels):\n",
    "    layer1.forward(input)\n",
    "    activation1.forward(layer1.output)\n",
    "    prediction = activation1.output\n",
    "    predictions.append(np.round(prediction[0]))\n",
    "\n",
    "print(np.array(predictions, dtype=np.int32))\n",
    "print(np.array(labels, dtype=np.int32))\n",
    "accuracy = np.mean(np.array(predictions) == np.array(labels)) * 100\n",
    "\n",
    "print(f\"Accuracy: {accuracy:.2f}%\")"
   ]
  }
 ],
 "metadata": {
  "kernelspec": {
   "display_name": "Python 3",
   "language": "python",
   "name": "python3"
  },
  "language_info": {
   "codemirror_mode": {
    "name": "ipython",
    "version": 3
   },
   "file_extension": ".py",
   "mimetype": "text/x-python",
   "name": "python",
   "nbconvert_exporter": "python",
   "pygments_lexer": "ipython3",
   "version": "3.11.8"
  }
 },
 "nbformat": 4,
 "nbformat_minor": 2
}
